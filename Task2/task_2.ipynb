{
  "nbformat": 4,
  "nbformat_minor": 2,
  "metadata": {
    "colab": {
      "name": "task_2.ipynb",
      "provenance": []
    },
    "kernelspec": {
      "name": "python3",
      "display_name": "Python 3"
    },
    "language_info": {
      "name": "python"
    }
  },
  "cells": [
    {
      "cell_type": "markdown",
      "source": [
        "# Problem Statement"
      ],
      "metadata": {
        "id": "0GMt56JnIW2l"
      }
    },
    {
      "cell_type": "markdown",
      "source": [
        "The machine learning model cannot work with raw text data directly. In the end, machine learning models work with numerical (categorical, real,…) features. So it is important to change these non-numerical data into numerical vector so that we can use the whole power of linear algebra.\n",
        "\n",
        "Some columns of the dataset provided to you faces the same problem. The csv file open_code_2.csv contains a real world data which has some categorical features.\n",
        "You have two tasks\n",
        "<ul>\n",
        "<li>Check the value count of each category in <code>category</code> column.</li>\n",
        "<li>Do one hot encoding of the column <code>category</code> where all the categories having count less than 25 are grouped in a seperate category named <code>other_category</code></li>\n",
        "</ul>\n",
        "\n",
        "As mentioned earlier you are only allowed to use numpy and pandas for this task.\n",
        "Do not edit the cells that are marked as UNIQUE as these cell are provided to help you in completing this assignment.\n"
      ],
      "metadata": {
        "id": "6fTNGBV2H6q3"
      }
    },
    {
      "cell_type": "markdown",
      "source": [
        "# In Colab"
      ],
      "metadata": {
        "id": "q8yalYOUIvZK"
      }
    },
    {
      "cell_type": "markdown",
      "source": [
        "This task does not require you do use gpu so you can work on it on your own cpu but if you want to use this notebook on google colab run the below cell and upload \n",
        "<ul>\n",
        "    <li>open_code.csv</li>\n",
        "    <li>check_task1.py</li>\n",
        "</ul>"
      ],
      "metadata": {
        "id": "dLnmW_rkH6q6"
      }
    },
    {
      "cell_type": "code",
      "execution_count": null,
      "source": [
        "import os \n",
        "from google.colab import files\n",
        "\n",
        "files.upload()"
      ],
      "outputs": [],
      "metadata": {
        "id": "6IEk0h0bJCHl"
      }
    },
    {
      "cell_type": "markdown",
      "source": [
        "# Import Statements"
      ],
      "metadata": {
        "id": "_0D6efdMH6q8"
      }
    },
    {
      "cell_type": "code",
      "execution_count": null,
      "source": [
        "# UNIQUE 1\n",
        "# Importing Modules\n",
        "\n",
        "import numpy as np\n",
        "import pandas as pd\n",
        "from check_task2 import *"
      ],
      "outputs": [],
      "metadata": {
        "id": "AnsG3L7YH6q8"
      }
    },
    {
      "cell_type": "code",
      "execution_count": null,
      "source": [
        "# UNIQUE 2\n",
        "# Running this cell with load the csv file and put it in the variable df\n",
        "\n",
        "df = pd.read_csv('./open_code_2.csv')"
      ],
      "outputs": [],
      "metadata": {
        "id": "eiOwORmyH6q-"
      }
    },
    {
      "cell_type": "code",
      "execution_count": null,
      "source": [
        "# Running this cell will display you the dataframe\n",
        "# UNIQUE 3\n",
        "df"
      ],
      "outputs": [],
      "metadata": {}
    },
    {
      "cell_type": "markdown",
      "source": [
        "# Task-2"
      ],
      "metadata": {
        "id": "2R2VzTHuJ8tk"
      }
    },
    {
      "cell_type": "markdown",
      "source": [
        "## Task-2A\n"
      ],
      "metadata": {}
    },
    {
      "cell_type": "markdown",
      "source": [
        "Categorical data can't be just passed into a model as machine learning works with numerics only.\n",
        "\n",
        "So, we use a method called <code>One Hot Encoding</code>.\n",
        "\n",
        "With one-hot, we convert each categorical value into a new categorical column and assign a binary value of 1 or 0 to those columns. Each integer value is represented as a binary vector. All the values are zero, and the index is marked with a 1.\n",
        "You can check <a href=\"https://hackernoon.com/what-is-one-hot-encoding-why-and-when-do-you-have-to-use-it-e3c6186d008f\">this</a> link to learn more about one hot encoding"
      ],
      "metadata": {
        "id": "KP-_-83eSDpE"
      }
    },
    {
      "cell_type": "markdown",
      "source": [
        "We have many category in our column called <code>category</code> and training our model for a column which is as less frequent is 25 just doesn't make sense so we will combine all such categories and put them in seperate column called <code>other_category</code>."
      ],
      "metadata": {
        "id": "Ig27WVteT3WA"
      }
    },
    {
      "cell_type": "code",
      "execution_count": null,
      "source": [
        "# Write here the code to check the value count of each category of the column named \"category\"\n",
        "\n",
        "# set of category whose count is less than 25\n",
        "category_less_than_25 = None"
      ],
      "outputs": [],
      "metadata": {
        "id": "zqN5UT1GKPEa"
      }
    },
    {
      "cell_type": "markdown",
      "source": [
        "To let you know if you are making any errors while completing this task we have given helper functions to check your work.\n",
        "Success means you have done this part of the task completely and you should proceed to next\n",
        "Failure means you messed up some part of your code "
      ],
      "metadata": {}
    },
    {
      "cell_type": "code",
      "execution_count": null,
      "source": [
        "# UNIQUE 4\n",
        "check_small_category(category_less_than_25)"
      ],
      "outputs": [],
      "metadata": {}
    },
    {
      "cell_type": "markdown",
      "source": [
        "Group the categories with count less than 25 into one single category named \"other_category\"\n",
        "Basically what you have to do is iterate through the column and change the name of category whose count is\n",
        "less than 25 to other_category."
      ],
      "metadata": {}
    },
    {
      "cell_type": "code",
      "execution_count": null,
      "source": [
        "# Complete the below function \n",
        "# It takes in the column category and then returns a df which has been modified as mentioned above\n",
        "# Note that the returned dataframe column name should be category\n",
        "def change_column_category(column_df,category_less_than_25=category_less_than_25):\n",
        "    '''\n",
        "    argument:\n",
        "        column_df : DataFrame df['category']\n",
        "        category_less_than_25 : A set of all category whose count is less than 25\n",
        "    returns:\n",
        "        changed_column_df : A dataframe where the column category has been modified\n",
        "    '''\n",
        "    changed_column_df = None\n",
        "    return changed_column_df"
      ],
      "outputs": [],
      "metadata": {
        "id": "EazvBIXuKfVC"
      }
    },
    {
      "cell_type": "code",
      "execution_count": null,
      "source": [
        "# UNIQUE 5\n",
        "check_change_column_category(change_column_category(df['category']))"
      ],
      "outputs": [],
      "metadata": {}
    },
    {
      "cell_type": "code",
      "execution_count": null,
      "source": [
        "# UNIQUE 6\n",
        "# Running this cell will drop the column category from the original dataframe and the modified one at it's\n",
        "# place\n",
        "changed_col_df = change_column_category(df['category'])\n",
        "df = df.drop(['category'],axis=1)\n",
        "df = pd.concat([changed_col_df,df])"
      ],
      "outputs": [],
      "metadata": {}
    },
    {
      "cell_type": "markdown",
      "source": [
        "## Task-2B\n"
      ],
      "metadata": {}
    },
    {
      "cell_type": "markdown",
      "source": [
        "Apply one hot encoding to the column \"Category\""
      ],
      "metadata": {}
    },
    {
      "cell_type": "code",
      "execution_count": null,
      "source": [
        "# You are supposed to write a function that takes column name as input and apply one hot encoding on it.\n",
        "# Make sure the name of the columns of your returned dataframe is same as the categories name\n",
        "# That means the name of your dataframe column should be GAME FAMILY DATING etc\n",
        "def column_to_one_hot(column_df):\n",
        "  '''\n",
        "    argument:\n",
        "        column_df : DataFrame df['category']\n",
        "    returns:\n",
        "        changed_column_df : A dataframe where the column category has been converted to one_hot\n",
        "  '''\n",
        "    \n",
        "  one_hot_df = None\n",
        "  return one_hot_df\n"
      ],
      "outputs": [],
      "metadata": {
        "id": "Ixbjw2ywL7dR"
      }
    },
    {
      "cell_type": "code",
      "execution_count": null,
      "source": [
        "# UNIQUE 7\n",
        "check_column_to_one_hot(column_to_one_hot(df['category']),df)"
      ],
      "outputs": [],
      "metadata": {}
    },
    {
      "cell_type": "markdown",
      "source": [
        "# Submisson"
      ],
      "metadata": {}
    },
    {
      "cell_type": "markdown",
      "source": [
        "Once you are done with the assignment open this notebook in google colab and share the notebook with the people specified below. To avoid plagarism you are adviced to not upload the notebook but just the link with access to only specified persons.\n",
        "<table>\n",
        "    <tr>\n",
        "        <th>Pratyaksh Singh </th>\n",
        "        <th>iib2020015@iiita.ac.in </th>\n",
        "    </tr>\n",
        "    <tr>\n",
        "        <th>Himanshu Bhawnani </th>\n",
        "        <th>iib2020035@iiita.ac.in </th>\n",
        "    </tr>\n",
        "    <tr>\n",
        "        <th>Parth Soni </th>\n",
        "        <th>iec2020132@iiita.ac.in </th>\n",
        "    </tr>\n",
        "    <tr>\n",
        "        <th>Utkarsh </th>\n",
        "        <th>iec2020060@iiita.ac.in </th>\n",
        "    </tr>\n",
        "</table>"
      ],
      "metadata": {}
    }
  ]
}