{
  "nbformat": 4,
  "nbformat_minor": 0,
  "metadata": {
    "colab": {
      "name": "popularity.ipynb",
      "provenance": [],
      "collapsed_sections": [
        "SPDzudkFOBWV",
        "537fkJTFOBWY",
        "gmRwuMGfOBWb"
      ]
    },
    "kernelspec": {
      "name": "python3",
      "display_name": "Python 3"
    },
    "language_info": {
      "name": "python"
    }
  },
  "cells": [
    {
      "cell_type": "markdown",
      "metadata": {
        "id": "zAnpOq7COBWM"
      },
      "source": [
        "# Problem Statement"
      ]
    },
    {
      "cell_type": "markdown",
      "metadata": {
        "id": "_gEIvkKdQBUg"
      },
      "source": [
        "The machine learning model cannot work with row text data directly. In the end, machine learning models work with numerical (categorical, real,…) features. So it is important to change these non-numerical data into numerical vector so that we can use the whole power of linear algebra.\n",
        "\n",
        "In this task, you need to featurise ‘popularity’ column.\n",
        "Just replace the ‘high’ values by 1 and ‘low’ values by 0\n",
        "\n",
        "\n",
        "\n",
        "As mentioned earlier you are only allowed to use numpy and pandas for this task.\n",
        "\n",
        "Do not edit the cells that are marked as UNIQUE as these cell are provided to help you in completing this assignment."
      ]
    },
    {
      "cell_type": "markdown",
      "metadata": {
        "id": "SPDzudkFOBWV"
      },
      "source": [
        "# In Colab"
      ]
    },
    {
      "cell_type": "markdown",
      "metadata": {
        "id": "TKXz6xJROBWW"
      },
      "source": [
        "This task does not require you do use gpu so you can work on it on your own cpu but if you want to use this notebook on google colab run the below cell and upload \n",
        "<ul>\n",
        "    <li>open_code.csv</li>\n",
        "    <li>check_task1.py</li>\n",
        "</ul>"
      ]
    },
    {
      "cell_type": "code",
      "metadata": {
        "id": "B8sfoFCvOBWX"
      },
      "source": [
        "import os \n",
        "from google.colab import files\n",
        "\n",
        "files.upload()"
      ],
      "execution_count": null,
      "outputs": []
    },
    {
      "cell_type": "markdown",
      "metadata": {
        "id": "537fkJTFOBWY"
      },
      "source": [
        "# Import Statements"
      ]
    },
    {
      "cell_type": "code",
      "metadata": {
        "id": "nX54tCqsOBWZ"
      },
      "source": [
        "# UNIQUE 1\n",
        "# Importing Modules\n",
        "\n",
        "import numpy as np\n",
        "import pandas as pd\n",
        "from check_task1 import *"
      ],
      "execution_count": null,
      "outputs": []
    },
    {
      "cell_type": "markdown",
      "metadata": {
        "id": "gmRwuMGfOBWb"
      },
      "source": [
        "# Import Data"
      ]
    },
    {
      "cell_type": "code",
      "metadata": {
        "id": "yq9vIf6QOBWc"
      },
      "source": [
        "# UNIQUE 2\n",
        "# Running this cell with laod the csv file and put it in the variable df\n",
        "\n",
        "df = pd.read_csv('./open_code_2.csv')"
      ],
      "execution_count": null,
      "outputs": []
    },
    {
      "cell_type": "markdown",
      "metadata": {
        "id": "-OxCeU6SOBWh"
      },
      "source": [
        "# Task - 4"
      ]
    },
    {
      "cell_type": "markdown",
      "metadata": {
        "id": "P_y0ULprYBHc"
      },
      "source": [
        "**popularity** column is our so-called **y** of dataset. It has 'high' and 'low ' as values. We need a numeric value so we need to convert 'high' and 'low' into 1 and 0, respectively. "
      ]
    },
    {
      "cell_type": "code",
      "metadata": {
        "id": "fu5jK-Y5Y43s"
      },
      "source": [
        "# Complete this function that replaces 'high' in **popularity** column with 1 and 'low' with 0.\n",
        "\n",
        "def convert_to_binary(data,col):\n",
        "\n",
        "  '''\n",
        "    parameters:\n",
        "        data : dataset\n",
        "        featureName : Name of the Column\n",
        "    returns:\n",
        "        binaryVec_df  =  dataset with 0 and 1 as values in col\n",
        "    '''\n",
        "    return binaryVec_df\n"
      ],
      "execution_count": null,
      "outputs": []
    },
    {
      "cell_type": "markdown",
      "metadata": {
        "id": "TThR3pHAaR8O"
      },
      "source": [
        "# Submisson"
      ]
    },
    {
      "cell_type": "markdown",
      "metadata": {
        "id": "ChS3o4rYaR8O"
      },
      "source": [
        "Once you are done with the assignment open this notebook in google colab and share the notebook with the people specified below. To avoid plagarism you are adviced to not upload the notebook but just the link with access to only specified persons.\n",
        "<table>\n",
        "    <tr>\n",
        "        <th>Pratyaksh Singh </th>\n",
        "        <th>iib2020015@iiita.ac.in </th>\n",
        "    </tr>\n",
        "    <tr>\n",
        "        <th>Himanshu Bhawnani </th>\n",
        "        <th>iib2020035@iiita.ac.in </th>\n",
        "    </tr>\n",
        "    <tr>\n",
        "        <th>Parth Soni </th>\n",
        "        <th>iec2020132@iiita.ac.in </th>\n",
        "    </tr>\n",
        "    <tr>\n",
        "        <th>Utkarsh </th>\n",
        "        <th>iec2020060@iiita.ac.in </th>\n",
        "    </tr>\n",
        "</table>"
      ]
    },
    {
      "cell_type": "markdown",
      "metadata": {
        "id": "6H0y0gbcaR8O"
      },
      "source": [
        "# Enjoy Open Code"
      ]
    }
  ]
}