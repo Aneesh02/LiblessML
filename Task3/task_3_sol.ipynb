{
  "nbformat": 4,
  "nbformat_minor": 0,
  "metadata": {
    "orig_nbformat": 4,
    "language_info": {
      "name": "python",
      "version": "3.8.10",
      "mimetype": "text/x-python",
      "codemirror_mode": {
        "name": "ipython",
        "version": 3
      },
      "pygments_lexer": "ipython3",
      "nbconvert_exporter": "python",
      "file_extension": ".py"
    },
    "kernelspec": {
      "name": "python3",
      "display_name": "Python 3.8.10 64-bit"
    },
    "interpreter": {
      "hash": "916dbcbb3f70747c44a77c7bcd40155683ae19c65e1c03b4aa3499c5328201f1"
    },
    "colab": {
      "name": "task_3.ipynb",
      "provenance": []
    }
  },
  "cells": [
    {
      "cell_type": "markdown",
      "metadata": {
        "id": "FC6ilFKNT2n2"
      },
      "source": [
        "# Problem Statement"
      ]
    },
    {
      "cell_type": "markdown",
      "metadata": {
        "id": "BV3xH8V_T2n7"
      },
      "source": [
        "Preprocessing data is on of the most important task of a ML engineer and it takes about 50-60% of the time while developing any project. Data is collected by scraping the web or by any other means and it is always possible that the dataset is not in the form you will like it to be.\n",
        "The dataset provided to you faces the same problem. The csv file open_code_2.csv contains a real world data which has been well structured by us but still requires some preprocessing to be done.\n",
        "You have three tasks\n",
        "<ul>\n",
        "<li>Featurisation of column named <code>size</code>.</li>\n",
        "<li>Featurisation of column named <code>installs</code></li>\n",
        "<li>Featurisation of column named <code>price</code></li> \n",
        "</ul>\n",
        "As mentioned earlier you are only allowed to use numpy and pandas for this task.\n",
        "Do not edit the cells that are marked as UNIQUE as these cell are provided to help you in completing this assignment.\n"
      ]
    },
    {
      "cell_type": "markdown",
      "metadata": {
        "id": "hcrefxOzT2n_"
      },
      "source": [
        "# In Colab"
      ]
    },
    {
      "cell_type": "markdown",
      "metadata": {
        "id": "PiBO5whfT2oA"
      },
      "source": [
        "This task does not require you do use gpu so you can work on it on your own cpu but if you want to use this notebook on google colab run the below cell and upload \n",
        "<ul>\n",
        "    <li>open_code_2.csv</li>\n",
        "    <li>check_task3.py</li>\n",
        "</ul>"
      ]
    },
    {
      "cell_type": "code",
      "metadata": {
        "colab": {
          "resources": {
            "http://localhost:8080/nbextensions/google.colab/files.js": {
              "data": "Ly8gQ29weXJpZ2h0IDIwMTcgR29vZ2xlIExMQwovLwovLyBMaWNlbnNlZCB1bmRlciB0aGUgQXBhY2hlIExpY2Vuc2UsIFZlcnNpb24gMi4wICh0aGUgIkxpY2Vuc2UiKTsKLy8geW91IG1heSBub3QgdXNlIHRoaXMgZmlsZSBleGNlcHQgaW4gY29tcGxpYW5jZSB3aXRoIHRoZSBMaWNlbnNlLgovLyBZb3UgbWF5IG9idGFpbiBhIGNvcHkgb2YgdGhlIExpY2Vuc2UgYXQKLy8KLy8gICAgICBodHRwOi8vd3d3LmFwYWNoZS5vcmcvbGljZW5zZXMvTElDRU5TRS0yLjAKLy8KLy8gVW5sZXNzIHJlcXVpcmVkIGJ5IGFwcGxpY2FibGUgbGF3IG9yIGFncmVlZCB0byBpbiB3cml0aW5nLCBzb2Z0d2FyZQovLyBkaXN0cmlidXRlZCB1bmRlciB0aGUgTGljZW5zZSBpcyBkaXN0cmlidXRlZCBvbiBhbiAiQVMgSVMiIEJBU0lTLAovLyBXSVRIT1VUIFdBUlJBTlRJRVMgT1IgQ09ORElUSU9OUyBPRiBBTlkgS0lORCwgZWl0aGVyIGV4cHJlc3Mgb3IgaW1wbGllZC4KLy8gU2VlIHRoZSBMaWNlbnNlIGZvciB0aGUgc3BlY2lmaWMgbGFuZ3VhZ2UgZ292ZXJuaW5nIHBlcm1pc3Npb25zIGFuZAovLyBsaW1pdGF0aW9ucyB1bmRlciB0aGUgTGljZW5zZS4KCi8qKgogKiBAZmlsZW92ZXJ2aWV3IEhlbHBlcnMgZm9yIGdvb2dsZS5jb2xhYiBQeXRob24gbW9kdWxlLgogKi8KKGZ1bmN0aW9uKHNjb3BlKSB7CmZ1bmN0aW9uIHNwYW4odGV4dCwgc3R5bGVBdHRyaWJ1dGVzID0ge30pIHsKICBjb25zdCBlbGVtZW50ID0gZG9jdW1lbnQuY3JlYXRlRWxlbWVudCgnc3BhbicpOwogIGVsZW1lbnQudGV4dENvbnRlbnQgPSB0ZXh0OwogIGZvciAoY29uc3Qga2V5IG9mIE9iamVjdC5rZXlzKHN0eWxlQXR0cmlidXRlcykpIHsKICAgIGVsZW1lbnQuc3R5bGVba2V5XSA9IHN0eWxlQXR0cmlidXRlc1trZXldOwogIH0KICByZXR1cm4gZWxlbWVudDsKfQoKLy8gTWF4IG51bWJlciBvZiBieXRlcyB3aGljaCB3aWxsIGJlIHVwbG9hZGVkIGF0IGEgdGltZS4KY29uc3QgTUFYX1BBWUxPQURfU0laRSA9IDEwMCAqIDEwMjQ7CgpmdW5jdGlvbiBfdXBsb2FkRmlsZXMoaW5wdXRJZCwgb3V0cHV0SWQpIHsKICBjb25zdCBzdGVwcyA9IHVwbG9hZEZpbGVzU3RlcChpbnB1dElkLCBvdXRwdXRJZCk7CiAgY29uc3Qgb3V0cHV0RWxlbWVudCA9IGRvY3VtZW50LmdldEVsZW1lbnRCeUlkKG91dHB1dElkKTsKICAvLyBDYWNoZSBzdGVwcyBvbiB0aGUgb3V0cHV0RWxlbWVudCB0byBtYWtlIGl0IGF2YWlsYWJsZSBmb3IgdGhlIG5leHQgY2FsbAogIC8vIHRvIHVwbG9hZEZpbGVzQ29udGludWUgZnJvbSBQeXRob24uCiAgb3V0cHV0RWxlbWVudC5zdGVwcyA9IHN0ZXBzOwoKICByZXR1cm4gX3VwbG9hZEZpbGVzQ29udGludWUob3V0cHV0SWQpOwp9CgovLyBUaGlzIGlzIHJvdWdobHkgYW4gYXN5bmMgZ2VuZXJhdG9yIChub3Qgc3VwcG9ydGVkIGluIHRoZSBicm93c2VyIHlldCksCi8vIHdoZXJlIHRoZXJlIGFyZSBtdWx0aXBsZSBhc3luY2hyb25vdXMgc3RlcHMgYW5kIHRoZSBQeXRob24gc2lkZSBpcyBnb2luZwovLyB0byBwb2xsIGZvciBjb21wbGV0aW9uIG9mIGVhY2ggc3RlcC4KLy8gVGhpcyB1c2VzIGEgUHJvbWlzZSB0byBibG9jayB0aGUgcHl0aG9uIHNpZGUgb24gY29tcGxldGlvbiBvZiBlYWNoIHN0ZXAsCi8vIHRoZW4gcGFzc2VzIHRoZSByZXN1bHQgb2YgdGhlIHByZXZpb3VzIHN0ZXAgYXMgdGhlIGlucHV0IHRvIHRoZSBuZXh0IHN0ZXAuCmZ1bmN0aW9uIF91cGxvYWRGaWxlc0NvbnRpbnVlKG91dHB1dElkKSB7CiAgY29uc3Qgb3V0cHV0RWxlbWVudCA9IGRvY3VtZW50LmdldEVsZW1lbnRCeUlkKG91dHB1dElkKTsKICBjb25zdCBzdGVwcyA9IG91dHB1dEVsZW1lbnQuc3RlcHM7CgogIGNvbnN0IG5leHQgPSBzdGVwcy5uZXh0KG91dHB1dEVsZW1lbnQubGFzdFByb21pc2VWYWx1ZSk7CiAgcmV0dXJuIFByb21pc2UucmVzb2x2ZShuZXh0LnZhbHVlLnByb21pc2UpLnRoZW4oKHZhbHVlKSA9PiB7CiAgICAvLyBDYWNoZSB0aGUgbGFzdCBwcm9taXNlIHZhbHVlIHRvIG1ha2UgaXQgYXZhaWxhYmxlIHRvIHRoZSBuZXh0CiAgICAvLyBzdGVwIG9mIHRoZSBnZW5lcmF0b3IuCiAgICBvdXRwdXRFbGVtZW50Lmxhc3RQcm9taXNlVmFsdWUgPSB2YWx1ZTsKICAgIHJldHVybiBuZXh0LnZhbHVlLnJlc3BvbnNlOwogIH0pOwp9CgovKioKICogR2VuZXJhdG9yIGZ1bmN0aW9uIHdoaWNoIGlzIGNhbGxlZCBiZXR3ZWVuIGVhY2ggYXN5bmMgc3RlcCBvZiB0aGUgdXBsb2FkCiAqIHByb2Nlc3MuCiAqIEBwYXJhbSB7c3RyaW5nfSBpbnB1dElkIEVsZW1lbnQgSUQgb2YgdGhlIGlucHV0IGZpbGUgcGlja2VyIGVsZW1lbnQuCiAqIEBwYXJhbSB7c3RyaW5nfSBvdXRwdXRJZCBFbGVtZW50IElEIG9mIHRoZSBvdXRwdXQgZGlzcGxheS4KICogQHJldHVybiB7IUl0ZXJhYmxlPCFPYmplY3Q+fSBJdGVyYWJsZSBvZiBuZXh0IHN0ZXBzLgogKi8KZnVuY3Rpb24qIHVwbG9hZEZpbGVzU3RlcChpbnB1dElkLCBvdXRwdXRJZCkgewogIGNvbnN0IGlucHV0RWxlbWVudCA9IGRvY3VtZW50LmdldEVsZW1lbnRCeUlkKGlucHV0SWQpOwogIGlucHV0RWxlbWVudC5kaXNhYmxlZCA9IGZhbHNlOwoKICBjb25zdCBvdXRwdXRFbGVtZW50ID0gZG9jdW1lbnQuZ2V0RWxlbWVudEJ5SWQob3V0cHV0SWQpOwogIG91dHB1dEVsZW1lbnQuaW5uZXJIVE1MID0gJyc7CgogIGNvbnN0IHBpY2tlZFByb21pc2UgPSBuZXcgUHJvbWlzZSgocmVzb2x2ZSkgPT4gewogICAgaW5wdXRFbGVtZW50LmFkZEV2ZW50TGlzdGVuZXIoJ2NoYW5nZScsIChlKSA9PiB7CiAgICAgIHJlc29sdmUoZS50YXJnZXQuZmlsZXMpOwogICAgfSk7CiAgfSk7CgogIGNvbnN0IGNhbmNlbCA9IGRvY3VtZW50LmNyZWF0ZUVsZW1lbnQoJ2J1dHRvbicpOwogIGlucHV0RWxlbWVudC5wYXJlbnRFbGVtZW50LmFwcGVuZENoaWxkKGNhbmNlbCk7CiAgY2FuY2VsLnRleHRDb250ZW50ID0gJ0NhbmNlbCB1cGxvYWQnOwogIGNvbnN0IGNhbmNlbFByb21pc2UgPSBuZXcgUHJvbWlzZSgocmVzb2x2ZSkgPT4gewogICAgY2FuY2VsLm9uY2xpY2sgPSAoKSA9PiB7CiAgICAgIHJlc29sdmUobnVsbCk7CiAgICB9OwogIH0pOwoKICAvLyBXYWl0IGZvciB0aGUgdXNlciB0byBwaWNrIHRoZSBmaWxlcy4KICBjb25zdCBmaWxlcyA9IHlpZWxkIHsKICAgIHByb21pc2U6IFByb21pc2UucmFjZShbcGlja2VkUHJvbWlzZSwgY2FuY2VsUHJvbWlzZV0pLAogICAgcmVzcG9uc2U6IHsKICAgICAgYWN0aW9uOiAnc3RhcnRpbmcnLAogICAgfQogIH07CgogIGNhbmNlbC5yZW1vdmUoKTsKCiAgLy8gRGlzYWJsZSB0aGUgaW5wdXQgZWxlbWVudCBzaW5jZSBmdXJ0aGVyIHBpY2tzIGFyZSBub3QgYWxsb3dlZC4KICBpbnB1dEVsZW1lbnQuZGlzYWJsZWQgPSB0cnVlOwoKICBpZiAoIWZpbGVzKSB7CiAgICByZXR1cm4gewogICAgICByZXNwb25zZTogewogICAgICAgIGFjdGlvbjogJ2NvbXBsZXRlJywKICAgICAgfQogICAgfTsKICB9CgogIGZvciAoY29uc3QgZmlsZSBvZiBmaWxlcykgewogICAgY29uc3QgbGkgPSBkb2N1bWVudC5jcmVhdGVFbGVtZW50KCdsaScpOwogICAgbGkuYXBwZW5kKHNwYW4oZmlsZS5uYW1lLCB7Zm9udFdlaWdodDogJ2JvbGQnfSkpOwogICAgbGkuYXBwZW5kKHNwYW4oCiAgICAgICAgYCgke2ZpbGUudHlwZSB8fCAnbi9hJ30pIC0gJHtmaWxlLnNpemV9IGJ5dGVzLCBgICsKICAgICAgICBgbGFzdCBtb2RpZmllZDogJHsKICAgICAgICAgICAgZmlsZS5sYXN0TW9kaWZpZWREYXRlID8gZmlsZS5sYXN0TW9kaWZpZWREYXRlLnRvTG9jYWxlRGF0ZVN0cmluZygpIDoKICAgICAgICAgICAgICAgICAgICAgICAgICAgICAgICAgICAgJ24vYSd9IC0gYCkpOwogICAgY29uc3QgcGVyY2VudCA9IHNwYW4oJzAlIGRvbmUnKTsKICAgIGxpLmFwcGVuZENoaWxkKHBlcmNlbnQpOwoKICAgIG91dHB1dEVsZW1lbnQuYXBwZW5kQ2hpbGQobGkpOwoKICAgIGNvbnN0IGZpbGVEYXRhUHJvbWlzZSA9IG5ldyBQcm9taXNlKChyZXNvbHZlKSA9PiB7CiAgICAgIGNvbnN0IHJlYWRlciA9IG5ldyBGaWxlUmVhZGVyKCk7CiAgICAgIHJlYWRlci5vbmxvYWQgPSAoZSkgPT4gewogICAgICAgIHJlc29sdmUoZS50YXJnZXQucmVzdWx0KTsKICAgICAgfTsKICAgICAgcmVhZGVyLnJlYWRBc0FycmF5QnVmZmVyKGZpbGUpOwogICAgfSk7CiAgICAvLyBXYWl0IGZvciB0aGUgZGF0YSB0byBiZSByZWFkeS4KICAgIGxldCBmaWxlRGF0YSA9IHlpZWxkIHsKICAgICAgcHJvbWlzZTogZmlsZURhdGFQcm9taXNlLAogICAgICByZXNwb25zZTogewogICAgICAgIGFjdGlvbjogJ2NvbnRpbnVlJywKICAgICAgfQogICAgfTsKCiAgICAvLyBVc2UgYSBjaHVua2VkIHNlbmRpbmcgdG8gYXZvaWQgbWVzc2FnZSBzaXplIGxpbWl0cy4gU2VlIGIvNjIxMTU2NjAuCiAgICBsZXQgcG9zaXRpb24gPSAwOwogICAgZG8gewogICAgICBjb25zdCBsZW5ndGggPSBNYXRoLm1pbihmaWxlRGF0YS5ieXRlTGVuZ3RoIC0gcG9zaXRpb24sIE1BWF9QQVlMT0FEX1NJWkUpOwogICAgICBjb25zdCBjaHVuayA9IG5ldyBVaW50OEFycmF5KGZpbGVEYXRhLCBwb3NpdGlvbiwgbGVuZ3RoKTsKICAgICAgcG9zaXRpb24gKz0gbGVuZ3RoOwoKICAgICAgY29uc3QgYmFzZTY0ID0gYnRvYShTdHJpbmcuZnJvbUNoYXJDb2RlLmFwcGx5KG51bGwsIGNodW5rKSk7CiAgICAgIHlpZWxkIHsKICAgICAgICByZXNwb25zZTogewogICAgICAgICAgYWN0aW9uOiAnYXBwZW5kJywKICAgICAgICAgIGZpbGU6IGZpbGUubmFtZSwKICAgICAgICAgIGRhdGE6IGJhc2U2NCwKICAgICAgICB9LAogICAgICB9OwoKICAgICAgbGV0IHBlcmNlbnREb25lID0gZmlsZURhdGEuYnl0ZUxlbmd0aCA9PT0gMCA/CiAgICAgICAgICAxMDAgOgogICAgICAgICAgTWF0aC5yb3VuZCgocG9zaXRpb24gLyBmaWxlRGF0YS5ieXRlTGVuZ3RoKSAqIDEwMCk7CiAgICAgIHBlcmNlbnQudGV4dENvbnRlbnQgPSBgJHtwZXJjZW50RG9uZX0lIGRvbmVgOwoKICAgIH0gd2hpbGUgKHBvc2l0aW9uIDwgZmlsZURhdGEuYnl0ZUxlbmd0aCk7CiAgfQoKICAvLyBBbGwgZG9uZS4KICB5aWVsZCB7CiAgICByZXNwb25zZTogewogICAgICBhY3Rpb246ICdjb21wbGV0ZScsCiAgICB9CiAgfTsKfQoKc2NvcGUuZ29vZ2xlID0gc2NvcGUuZ29vZ2xlIHx8IHt9OwpzY29wZS5nb29nbGUuY29sYWIgPSBzY29wZS5nb29nbGUuY29sYWIgfHwge307CnNjb3BlLmdvb2dsZS5jb2xhYi5fZmlsZXMgPSB7CiAgX3VwbG9hZEZpbGVzLAogIF91cGxvYWRGaWxlc0NvbnRpbnVlLAp9Owp9KShzZWxmKTsK",
              "ok": true,
              "headers": [
                [
                  "content-type",
                  "application/javascript"
                ]
              ],
              "status": 200,
              "status_text": ""
            }
          },
          "base_uri": "https://localhost:8080/",
          "height": 110
        },
        "id": "kX8hlQpVT2oB",
        "outputId": "ad636b18-ac8b-4542-c964-38aef8b5e77c"
      },
      "source": [
        "import os \n",
        "from google.colab import files\n",
        "\n",
        "files.upload()"
      ],
      "execution_count": null,
      "outputs": [
        {
          "output_type": "display_data",
          "data": {
            "text/html": [
              "\n",
              "     <input type=\"file\" id=\"files-7b731807-8674-4bcc-a0a6-66cdabb61637\" name=\"files[]\" multiple disabled\n",
              "        style=\"border:none\" />\n",
              "     <output id=\"result-7b731807-8674-4bcc-a0a6-66cdabb61637\">\n",
              "      Upload widget is only available when the cell has been executed in the\n",
              "      current browser session. Please rerun this cell to enable.\n",
              "      </output>\n",
              "      <script src=\"/nbextensions/google.colab/files.js\"></script> "
            ],
            "text/plain": [
              "<IPython.core.display.HTML object>"
            ]
          },
          "metadata": {}
        },
        {
          "output_type": "stream",
          "name": "stdout",
          "text": [
            "Saving check_task3.py to check_task3.py\n"
          ]
        },
        {
          "output_type": "execute_result",
          "data": {
            "text/plain": [
              "{'check_task3.py': b'import numpy as np\\nimport pandas as pd\\n\\ndef print_success():\\n    print(\"\\\\x1b[32m\\\\\"Success!!\\\\\"\\\\x1b[0m\")\\n\\ndef print_fail():\\n    print(\"\\\\x1b[31m\\\\\"Failure!!\\\\\"\\\\x1b[0m\")\\n\\ndef is_dataframe(df):\\n    return isinstance(df,pd.DataFrame)\\n\\ndef is_float(df,col):\\n    return df.dtypes.to_dict()[col]==\"float64\"\\n\\ndef check_float_or_df(df,col):\\n    if is_dataframe(df):\\n        print_success()\\n    else:\\n        print_fail()\\n        print(\"The output should be a datframe\")\\n    if is_float(df,col):\\n        print_success()\\n    else:\\n        print_fail()\\n        print(\"The column element should be an integer\")\\n\\ndef check_clean_size(df):\\n    check_float_or_df(df,\\'size\\')\\n\\ndef check_clean_install(df):\\n    check_float_or_df(df,\\'install\\')\\n\\ndef check_clean_price(df):\\n    check_float_or_df(df,\\'price\\')'}"
            ]
          },
          "metadata": {},
          "execution_count": 3
        }
      ]
    },
    {
      "cell_type": "markdown",
      "metadata": {
        "id": "Pe2mLDS7T2oD"
      },
      "source": [
        "# Import Statements"
      ]
    },
    {
      "cell_type": "code",
      "metadata": {
        "id": "7Wbil8ADT2oE"
      },
      "source": [
        "# UNIQUE 1\n",
        "# Importing Modules\n",
        "\n",
        "import numpy as np\n",
        "import pandas as pd\n",
        "from check_task3 import *"
      ],
      "execution_count": null,
      "outputs": []
    },
    {
      "cell_type": "markdown",
      "metadata": {
        "id": "MREFR2HKT2oG"
      },
      "source": [
        "# Understanding Data"
      ]
    },
    {
      "cell_type": "code",
      "metadata": {
        "id": "OMpeylDZT2oH"
      },
      "source": [
        "# UNIQUE 2\n",
        "# Running this cell with laod the csv file and put it in the variable df\n",
        "\n",
        "df = pd.read_csv('./open_code_2.csv')"
      ],
      "execution_count": null,
      "outputs": []
    },
    {
      "cell_type": "code",
      "metadata": {
        "colab": {
          "base_uri": "https://localhost:8080/",
          "height": 363
        },
        "id": "knLIGbaDT2oJ",
        "outputId": "9f732eb1-b489-424b-a2aa-473fb72a0735"
      },
      "source": [
        "# UNIQUE 3\n",
        "# Running this cell will show you how the dataset looks like \n",
        "\n",
        "df.head(10)"
      ],
      "execution_count": null,
      "outputs": [
        {
          "output_type": "execute_result",
          "data": {
            "text/html": [
              "<div>\n",
              "<style scoped>\n",
              "    .dataframe tbody tr th:only-of-type {\n",
              "        vertical-align: middle;\n",
              "    }\n",
              "\n",
              "    .dataframe tbody tr th {\n",
              "        vertical-align: top;\n",
              "    }\n",
              "\n",
              "    .dataframe thead th {\n",
              "        text-align: right;\n",
              "    }\n",
              "</style>\n",
              "<table border=\"1\" class=\"dataframe\">\n",
              "  <thead>\n",
              "    <tr style=\"text-align: right;\">\n",
              "      <th></th>\n",
              "      <th>category</th>\n",
              "      <th>reviews</th>\n",
              "      <th>size</th>\n",
              "      <th>installs</th>\n",
              "      <th>price</th>\n",
              "      <th>suitable_for</th>\n",
              "      <th>last_update</th>\n",
              "      <th>latest_ver</th>\n",
              "      <th>popularity</th>\n",
              "    </tr>\n",
              "  </thead>\n",
              "  <tbody>\n",
              "    <tr>\n",
              "      <th>0</th>\n",
              "      <td>TOOLS</td>\n",
              "      <td>3988</td>\n",
              "      <td>11M</td>\n",
              "      <td>1,000,000+</td>\n",
              "      <td>0</td>\n",
              "      <td>Everyone</td>\n",
              "      <td>December 22, 2015</td>\n",
              "      <td>1.0.5</td>\n",
              "      <td>Low</td>\n",
              "    </tr>\n",
              "    <tr>\n",
              "      <th>1</th>\n",
              "      <td>FAMILY</td>\n",
              "      <td>12</td>\n",
              "      <td>13M</td>\n",
              "      <td>1,000+</td>\n",
              "      <td>0</td>\n",
              "      <td>Everyone</td>\n",
              "      <td>February 3, 2018</td>\n",
              "      <td>1.3.4</td>\n",
              "      <td>Low</td>\n",
              "    </tr>\n",
              "    <tr>\n",
              "      <th>2</th>\n",
              "      <td>FAMILY</td>\n",
              "      <td>407</td>\n",
              "      <td>306k</td>\n",
              "      <td>50,000+</td>\n",
              "      <td>0</td>\n",
              "      <td>Mature 17+</td>\n",
              "      <td>April 11, 2017</td>\n",
              "      <td>1.0</td>\n",
              "      <td>Low</td>\n",
              "    </tr>\n",
              "    <tr>\n",
              "      <th>3</th>\n",
              "      <td>MEDICAL</td>\n",
              "      <td>19</td>\n",
              "      <td>2.2M</td>\n",
              "      <td>5,000+</td>\n",
              "      <td>0</td>\n",
              "      <td>Everyone</td>\n",
              "      <td>May 12, 2018</td>\n",
              "      <td>1.4.15</td>\n",
              "      <td>Low</td>\n",
              "    </tr>\n",
              "    <tr>\n",
              "      <th>4</th>\n",
              "      <td>GAME</td>\n",
              "      <td>4416</td>\n",
              "      <td>59M</td>\n",
              "      <td>500,000+</td>\n",
              "      <td>0</td>\n",
              "      <td>Teen</td>\n",
              "      <td>January 18, 2017</td>\n",
              "      <td>2.1.7</td>\n",
              "      <td>Low</td>\n",
              "    </tr>\n",
              "    <tr>\n",
              "      <th>5</th>\n",
              "      <td>FAMILY</td>\n",
              "      <td>246</td>\n",
              "      <td>35M</td>\n",
              "      <td>50,000+</td>\n",
              "      <td>0</td>\n",
              "      <td>Teen</td>\n",
              "      <td>September 23, 2016</td>\n",
              "      <td>1.0</td>\n",
              "      <td>Low</td>\n",
              "    </tr>\n",
              "    <tr>\n",
              "      <th>6</th>\n",
              "      <td>SOCIAL</td>\n",
              "      <td>20675</td>\n",
              "      <td>96M</td>\n",
              "      <td>1,000,000+</td>\n",
              "      <td>0</td>\n",
              "      <td>Teen</td>\n",
              "      <td>August 2, 2018</td>\n",
              "      <td>4.4.0</td>\n",
              "      <td>Low</td>\n",
              "    </tr>\n",
              "    <tr>\n",
              "      <th>7</th>\n",
              "      <td>GAME</td>\n",
              "      <td>1976</td>\n",
              "      <td>21M</td>\n",
              "      <td>100,000+</td>\n",
              "      <td>0</td>\n",
              "      <td>Teen</td>\n",
              "      <td>March 3, 2018</td>\n",
              "      <td>1.6</td>\n",
              "      <td>Low</td>\n",
              "    </tr>\n",
              "    <tr>\n",
              "      <th>8</th>\n",
              "      <td>DATING</td>\n",
              "      <td>1093</td>\n",
              "      <td>5.8M</td>\n",
              "      <td>100,000+</td>\n",
              "      <td>0</td>\n",
              "      <td>Mature 17+</td>\n",
              "      <td>January 28, 2017</td>\n",
              "      <td>1.6.6</td>\n",
              "      <td>Low</td>\n",
              "    </tr>\n",
              "    <tr>\n",
              "      <th>9</th>\n",
              "      <td>GAME</td>\n",
              "      <td>2071</td>\n",
              "      <td>36M</td>\n",
              "      <td>100,000+</td>\n",
              "      <td>0</td>\n",
              "      <td>Everyone</td>\n",
              "      <td>June 29, 2018</td>\n",
              "      <td>1.0.3</td>\n",
              "      <td>Low</td>\n",
              "    </tr>\n",
              "  </tbody>\n",
              "</table>\n",
              "</div>"
            ],
            "text/plain": [
              "  category  reviews  size  ...         last_update latest_ver popularity\n",
              "0    TOOLS     3988   11M  ...   December 22, 2015      1.0.5        Low\n",
              "1   FAMILY       12   13M  ...    February 3, 2018      1.3.4        Low\n",
              "2   FAMILY      407  306k  ...      April 11, 2017        1.0        Low\n",
              "3  MEDICAL       19  2.2M  ...        May 12, 2018     1.4.15        Low\n",
              "4     GAME     4416   59M  ...    January 18, 2017      2.1.7        Low\n",
              "5   FAMILY      246   35M  ...  September 23, 2016        1.0        Low\n",
              "6   SOCIAL    20675   96M  ...      August 2, 2018      4.4.0        Low\n",
              "7     GAME     1976   21M  ...       March 3, 2018        1.6        Low\n",
              "8   DATING     1093  5.8M  ...    January 28, 2017      1.6.6        Low\n",
              "9     GAME     2071   36M  ...       June 29, 2018      1.0.3        Low\n",
              "\n",
              "[10 rows x 9 columns]"
            ]
          },
          "metadata": {},
          "execution_count": 6
        }
      ]
    },
    {
      "cell_type": "code",
      "metadata": {
        "id": "SX_uBCA2T2oL"
      },
      "source": [
        "# We encourage you to do for EDA if you feel necessary because there is no known disadvantages of \n",
        "# understanding the dataset better :)"
      ],
      "execution_count": null,
      "outputs": []
    },
    {
      "cell_type": "markdown",
      "metadata": {
        "id": "JSdh7ap4T2oM"
      },
      "source": [
        "# Task - 3"
      ]
    },
    {
      "cell_type": "markdown",
      "metadata": {
        "id": "kkQ2IliTT2oN"
      },
      "source": [
        "## Task 3A"
      ]
    },
    {
      "cell_type": "markdown",
      "metadata": {
        "id": "5oQeSHICT2oO"
      },
      "source": [
        "This task requires you to convert the values given in the column <code>size</code> to numerical values first you will check the representation of the size in the column. The file size ending with k denotes that the file is in kb while the file size ending with M denotes that the file is in mb."
      ]
    },
    {
      "cell_type": "code",
      "metadata": {
        "colab": {
          "base_uri": "https://localhost:8080/"
        },
        "id": "_q8-kMErT2oP",
        "outputId": "57d712ed-8b62-46ae-a6cf-4215f2d56ba4"
      },
      "source": [
        "# Write your code to ensure that all the files are in either kb or mb.\n",
        "\n",
        "nun_dic = {}\n",
        "for i in list(df['size']):\n",
        "    last_char = i[-1]\n",
        "    nun_dic.setdefault(last_char,0)\n",
        "    nun_dic[last_char]+=1\n",
        "print(nun_dic) "
      ],
      "execution_count": null,
      "outputs": [
        {
          "output_type": "stream",
          "name": "stdout",
          "text": [
            "{'M': 2911, 'k': 106}\n"
          ]
        }
      ]
    },
    {
      "cell_type": "code",
      "metadata": {
        "id": "WnAbWwmpT2oQ"
      },
      "source": [
        "# Write a function that takes in the column 'size' of the dataframe df and then return another dataframe \n",
        "# named clean_size_df. In this dataframe the file size which are in mb \n",
        "# must be multiplied with 1024 to convert them in kb too. The column element must be float that means\n",
        "# the terminating unit (k/M) should be removed\n",
        "# Returned dataframe column name should be same here size\n",
        "\n",
        "def clean_size(column_df):\n",
        "    '''\n",
        "    argument:\n",
        "        column_df = Datafram of the column named size\n",
        "    returns:\n",
        "        clean_size_df = Dataframe where elements of column_df are changed as specified above\n",
        "    '''\n",
        "    size_array = []\n",
        "    for i in list(column_df):\n",
        "        last_char = i[-1]\n",
        "        rest_num = i[:-1]\n",
        "        if last_char=='M':\n",
        "            size_array.append(float(rest_num)*1000)\n",
        "        else:\n",
        "            size_array.append(float(rest_num))\n",
        "    clean_size_df = pd.DataFrame(size_array,columns=['sizess'])\n",
        "    return clean_size_df"
      ],
      "execution_count": null,
      "outputs": []
    },
    {
      "cell_type": "markdown",
      "metadata": {
        "id": "kLMEAWMFT2oR"
      },
      "source": [
        "To let you know if you are making any errors while completing this task we have given helper functions to check your work.\n",
        "Success means you have done this part of the task completely and you should proceed to next\n",
        "Failure means you messed up some part of your code "
      ]
    },
    {
      "cell_type": "code",
      "metadata": {
        "id": "A1t_QTifVwo-"
      },
      "source": [
        "df_l = clean_size(df['size'])"
      ],
      "execution_count": null,
      "outputs": []
    },
    {
      "cell_type": "code",
      "metadata": {
        "colab": {
          "base_uri": "https://localhost:8080/",
          "height": 424
        },
        "id": "0NF_h9NwV3S7",
        "outputId": "191b2971-2541-4978-88b9-a1562979d5a9"
      },
      "source": [
        "df_l"
      ],
      "execution_count": null,
      "outputs": [
        {
          "output_type": "execute_result",
          "data": {
            "text/html": [
              "<div>\n",
              "<style scoped>\n",
              "    .dataframe tbody tr th:only-of-type {\n",
              "        vertical-align: middle;\n",
              "    }\n",
              "\n",
              "    .dataframe tbody tr th {\n",
              "        vertical-align: top;\n",
              "    }\n",
              "\n",
              "    .dataframe thead th {\n",
              "        text-align: right;\n",
              "    }\n",
              "</style>\n",
              "<table border=\"1\" class=\"dataframe\">\n",
              "  <thead>\n",
              "    <tr style=\"text-align: right;\">\n",
              "      <th></th>\n",
              "      <th>sizess</th>\n",
              "    </tr>\n",
              "  </thead>\n",
              "  <tbody>\n",
              "    <tr>\n",
              "      <th>0</th>\n",
              "      <td>11000.0</td>\n",
              "    </tr>\n",
              "    <tr>\n",
              "      <th>1</th>\n",
              "      <td>13000.0</td>\n",
              "    </tr>\n",
              "    <tr>\n",
              "      <th>2</th>\n",
              "      <td>306.0</td>\n",
              "    </tr>\n",
              "    <tr>\n",
              "      <th>3</th>\n",
              "      <td>2200.0</td>\n",
              "    </tr>\n",
              "    <tr>\n",
              "      <th>4</th>\n",
              "      <td>59000.0</td>\n",
              "    </tr>\n",
              "    <tr>\n",
              "      <th>...</th>\n",
              "      <td>...</td>\n",
              "    </tr>\n",
              "    <tr>\n",
              "      <th>3012</th>\n",
              "      <td>57000.0</td>\n",
              "    </tr>\n",
              "    <tr>\n",
              "      <th>3013</th>\n",
              "      <td>50000.0</td>\n",
              "    </tr>\n",
              "    <tr>\n",
              "      <th>3014</th>\n",
              "      <td>8900.0</td>\n",
              "    </tr>\n",
              "    <tr>\n",
              "      <th>3015</th>\n",
              "      <td>3500.0</td>\n",
              "    </tr>\n",
              "    <tr>\n",
              "      <th>3016</th>\n",
              "      <td>15000.0</td>\n",
              "    </tr>\n",
              "  </tbody>\n",
              "</table>\n",
              "<p>3017 rows × 1 columns</p>\n",
              "</div>"
            ],
            "text/plain": [
              "       sizess\n",
              "0     11000.0\n",
              "1     13000.0\n",
              "2       306.0\n",
              "3      2200.0\n",
              "4     59000.0\n",
              "...       ...\n",
              "3012  57000.0\n",
              "3013  50000.0\n",
              "3014   8900.0\n",
              "3015   3500.0\n",
              "3016  15000.0\n",
              "\n",
              "[3017 rows x 1 columns]"
            ]
          },
          "metadata": {},
          "execution_count": 39
        }
      ]
    },
    {
      "cell_type": "code",
      "metadata": {
        "colab": {
          "base_uri": "https://localhost:8080/"
        },
        "id": "qu49CYa8T2oS",
        "outputId": "5e303897-8981-4f52-d249-072d9f424dda"
      },
      "source": [
        "# UNIQUE 4\n",
        "\n",
        "check_clean_size(clean_size(df['size']))"
      ],
      "execution_count": null,
      "outputs": [
        {
          "output_type": "stream",
          "name": "stdout",
          "text": [
            "\u001b[32m\"Success!!\"\u001b[0m\n",
            "\u001b[32m\"Success!!\"\u001b[0m\n"
          ]
        }
      ]
    },
    {
      "cell_type": "markdown",
      "metadata": {
        "id": "M3xOlgWhT2oT"
      },
      "source": [
        "## Task 3B"
      ]
    },
    {
      "cell_type": "markdown",
      "metadata": {
        "id": "zPldbHURT2oT"
      },
      "source": [
        "In this task you are supposd to featurise the column names <code>installs</code>.\n",
        "You are supposed to:\n",
        "<ul>\n",
        "    <li>Remove the comma(,) from the string</li>\n",
        "    <li>Remove the plus sign (+) from the end of the string </li>\n",
        "    <li>Convert the string to float</li>\n",
        "</ul>"
      ]
    },
    {
      "cell_type": "code",
      "metadata": {
        "colab": {
          "base_uri": "https://localhost:8080/"
        },
        "id": "jH4sZIn1T2oU",
        "outputId": "af96048f-66c4-4996-d999-e0c7f7e02524"
      },
      "source": [
        "# Running this code block will show you how install looks\n",
        "df['installs']"
      ],
      "execution_count": null,
      "outputs": [
        {
          "output_type": "execute_result",
          "data": {
            "text/plain": [
              "0         1,000,000+\n",
              "1             1,000+\n",
              "2            50,000+\n",
              "3             5,000+\n",
              "4           500,000+\n",
              "            ...     \n",
              "3012    100,000,000+\n",
              "3013        100,000+\n",
              "3014            500+\n",
              "3015        100,000+\n",
              "3016         10,000+\n",
              "Name: installs, Length: 3017, dtype: object"
            ]
          },
          "metadata": {},
          "execution_count": 14
        }
      ]
    },
    {
      "cell_type": "code",
      "metadata": {
        "id": "D4XragfMT2oW"
      },
      "source": [
        "# Write a functions that takes in the column named installs and then returns a dataframe after modifying \n",
        "# installs as specified above\n",
        "# Returned dataframe column name should be same here install\n",
        "\n",
        "def clean_install(column_df):\n",
        "    '''\n",
        "    parameters:\n",
        "        df : Dataframe of the column install\n",
        "    returns:\n",
        "        final_df : The final dataframe after modifying column_df as specified above\n",
        "    '''\n",
        "    fin = []\n",
        "    for i in list(column_df):\n",
        "        fin.append(float(\"\".join((str(i).split(\"+\")[0]).split(\",\"))))\n",
        "    final_df = pd.DataFrame(fin,columns=['install'])\n",
        "    return final_df "
      ],
      "execution_count": null,
      "outputs": []
    },
    {
      "cell_type": "code",
      "metadata": {
        "colab": {
          "base_uri": "https://localhost:8080/",
          "height": 424
        },
        "id": "QeAg4TkMW07V",
        "outputId": "aa31edcd-79b9-4c90-863e-87ea3eb33a87"
      },
      "source": [
        "lul = clean_install(df['installs'])\n",
        "lul"
      ],
      "execution_count": null,
      "outputs": [
        {
          "output_type": "execute_result",
          "data": {
            "text/html": [
              "<div>\n",
              "<style scoped>\n",
              "    .dataframe tbody tr th:only-of-type {\n",
              "        vertical-align: middle;\n",
              "    }\n",
              "\n",
              "    .dataframe tbody tr th {\n",
              "        vertical-align: top;\n",
              "    }\n",
              "\n",
              "    .dataframe thead th {\n",
              "        text-align: right;\n",
              "    }\n",
              "</style>\n",
              "<table border=\"1\" class=\"dataframe\">\n",
              "  <thead>\n",
              "    <tr style=\"text-align: right;\">\n",
              "      <th></th>\n",
              "      <th>install</th>\n",
              "    </tr>\n",
              "  </thead>\n",
              "  <tbody>\n",
              "    <tr>\n",
              "      <th>0</th>\n",
              "      <td>1000000.0</td>\n",
              "    </tr>\n",
              "    <tr>\n",
              "      <th>1</th>\n",
              "      <td>1000.0</td>\n",
              "    </tr>\n",
              "    <tr>\n",
              "      <th>2</th>\n",
              "      <td>50000.0</td>\n",
              "    </tr>\n",
              "    <tr>\n",
              "      <th>3</th>\n",
              "      <td>5000.0</td>\n",
              "    </tr>\n",
              "    <tr>\n",
              "      <th>4</th>\n",
              "      <td>500000.0</td>\n",
              "    </tr>\n",
              "    <tr>\n",
              "      <th>...</th>\n",
              "      <td>...</td>\n",
              "    </tr>\n",
              "    <tr>\n",
              "      <th>3012</th>\n",
              "      <td>100000000.0</td>\n",
              "    </tr>\n",
              "    <tr>\n",
              "      <th>3013</th>\n",
              "      <td>100000.0</td>\n",
              "    </tr>\n",
              "    <tr>\n",
              "      <th>3014</th>\n",
              "      <td>500.0</td>\n",
              "    </tr>\n",
              "    <tr>\n",
              "      <th>3015</th>\n",
              "      <td>100000.0</td>\n",
              "    </tr>\n",
              "    <tr>\n",
              "      <th>3016</th>\n",
              "      <td>10000.0</td>\n",
              "    </tr>\n",
              "  </tbody>\n",
              "</table>\n",
              "<p>3017 rows × 1 columns</p>\n",
              "</div>"
            ],
            "text/plain": [
              "          install\n",
              "0       1000000.0\n",
              "1          1000.0\n",
              "2         50000.0\n",
              "3          5000.0\n",
              "4        500000.0\n",
              "...           ...\n",
              "3012  100000000.0\n",
              "3013     100000.0\n",
              "3014        500.0\n",
              "3015     100000.0\n",
              "3016      10000.0\n",
              "\n",
              "[3017 rows x 1 columns]"
            ]
          },
          "metadata": {},
          "execution_count": 28
        }
      ]
    },
    {
      "cell_type": "code",
      "metadata": {
        "colab": {
          "base_uri": "https://localhost:8080/"
        },
        "id": "yP4S09ppT2oX",
        "outputId": "b8af0e08-8408-4297-fed9-5cb1e86037d9"
      },
      "source": [
        "# UNIQUE 5\n",
        "\n",
        "check_clean_install(clean_install(df['installs']))"
      ],
      "execution_count": null,
      "outputs": [
        {
          "output_type": "stream",
          "name": "stdout",
          "text": [
            "\u001b[32m\"Success!!\"\u001b[0m\n",
            "\u001b[32m\"Success!!\"\u001b[0m\n"
          ]
        }
      ]
    },
    {
      "cell_type": "markdown",
      "metadata": {
        "id": "CJ2YeBxLT2oY"
      },
      "source": [
        "## Task 3C "
      ]
    },
    {
      "cell_type": "markdown",
      "metadata": {
        "id": "eeIhp2RmT2oZ"
      },
      "source": [
        "You are required to featurize the column named <code>price</code>\n",
        "You are supposed to:\n",
        "<ul>\n",
        "    <li>Remove the dollor sign if it exists.</li>\n",
        "    <li>Convert the string to float. </li>\n",
        "</ul>"
      ]
    },
    {
      "cell_type": "code",
      "metadata": {
        "colab": {
          "base_uri": "https://localhost:8080/"
        },
        "id": "kaDR6O01T2oa",
        "outputId": "4f0fab18-c44b-4620-c272-99927769ef38"
      },
      "source": [
        "# Run this cell to see how the column price looks like\n",
        "df['price']\n"
      ],
      "execution_count": null,
      "outputs": [
        {
          "output_type": "execute_result",
          "data": {
            "text/plain": [
              "0           0\n",
              "1           0\n",
              "2           0\n",
              "3           0\n",
              "4           0\n",
              "        ...  \n",
              "3012        0\n",
              "3013        0\n",
              "3014    $1.99\n",
              "3015        0\n",
              "3016        0\n",
              "Name: price, Length: 3017, dtype: object"
            ]
          },
          "metadata": {},
          "execution_count": 30
        }
      ]
    },
    {
      "cell_type": "code",
      "metadata": {
        "id": "GTQsqKx_T2oa"
      },
      "source": [
        "# Write a functions that takes in the column named price and then returns a dataframe after modifying \n",
        "# price as specified above\n",
        "# Returned dataframe column name should be same here price\n",
        "\n",
        "def clean_price(column_df):\n",
        "    '''\n",
        "    parameters:\n",
        "        df : Dataframe of the column price\n",
        "    returns:\n",
        "        final_df : The final dataframe after modifying column_df as specified above\n",
        "    '''\n",
        "    fin_data = []\n",
        "    for i in list(column_df):\n",
        "        fin_data.append(float(str(i).split('$')[-1]))\n",
        "    final_df = pd.DataFrame(fin_data,columns=['price'])\n",
        "    return final_df"
      ],
      "execution_count": null,
      "outputs": []
    },
    {
      "cell_type": "code",
      "metadata": {
        "colab": {
          "base_uri": "https://localhost:8080/"
        },
        "id": "UiFEqMqxT2ob",
        "outputId": "d2c95e93-edf4-4c61-f16f-c5658b6d70b3"
      },
      "source": [
        "#UNIQUE 6\n",
        "\n",
        "check_clean_price(clean_price(df['price']))"
      ],
      "execution_count": null,
      "outputs": [
        {
          "output_type": "stream",
          "name": "stdout",
          "text": [
            "\u001b[32m\"Success!!\"\u001b[0m\n",
            "\u001b[32m\"Success!!\"\u001b[0m\n"
          ]
        }
      ]
    },
    {
      "cell_type": "markdown",
      "metadata": {
        "id": "_CXfL1vsT2oc"
      },
      "source": [
        "# Submisson"
      ]
    },
    {
      "cell_type": "markdown",
      "metadata": {
        "id": "p-Om6N7DT2oc"
      },
      "source": [
        "Once you are done with the assignment open this notebook in google colab and share the notebook with the people specified below. To avoid plagarism you are adviced to not upload the notebook but just the link with access to only specified persons.\n",
        "<table>\n",
        "    <tr>\n",
        "        <th>Pratyaksh Singh </th>\n",
        "        <th>iib2020015@iiita.ac.in </th>\n",
        "    </tr>\n",
        "    <tr>\n",
        "        <th>Himanshu Bhawnani </th>\n",
        "        <th>iib2020035@iiita.ac.in </th>\n",
        "    </tr>\n",
        "    <tr>\n",
        "        <th>Parth Soni </th>\n",
        "        <th>iec2020132@iiita.ac.in </th>\n",
        "    </tr>\n",
        "    <tr>\n",
        "        <th>Utkarsh Singh </th>\n",
        "        <th>iec2020029@iiita.ac.in </th>\n",
        "    </tr>\n",
        "</table>"
      ]
    },
    {
      "cell_type": "markdown",
      "metadata": {
        "id": "ovxaQZYsT2od"
      },
      "source": [
        "# Enjoy Open Code"
      ]
    }
  ]
}