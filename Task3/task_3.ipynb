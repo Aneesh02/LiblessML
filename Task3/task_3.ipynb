{
 "cells": [
  {
   "cell_type": "markdown",
   "source": [
    "# Problem Statement"
   ],
   "metadata": {}
  },
  {
   "cell_type": "markdown",
   "source": [
    "Preprocessing data is on of the most important task of a ML engineer and it takes about 50-60% of the time while developing any project. Data is collected by scraping the web or by any other means and it is always possible that the dataset is not in the form you will like it to be.\n",
    "The dataset provided to you faces the same problem. The csv file open_code_2.csv contains a real world data which has been well structured by us but still requires some preprocessing to be done.\n",
    "You have three tasks\n",
    "<ul>\n",
    "<li>Featurisation of column named <code>size</code>.</li>\n",
    "<li>Featurisation of column named <code>installs</code></li>\n",
    "<li>Featurisation of column named <code>price</code></li> \n",
    "</ul>\n",
    "As mentioned earlier you are only allowed to use numpy and pandas for this task.\n",
    "Do not edit the cells that are marked as UNIQUE as these cell are provided to help you in completing this assignment.\n"
   ],
   "metadata": {}
  },
  {
   "cell_type": "markdown",
   "source": [
    "# In Colab"
   ],
   "metadata": {}
  },
  {
   "cell_type": "markdown",
   "source": [
    "This task does not require you do use gpu so you can work on it on your own cpu but if you want to use this notebook on google colab run the below cell and upload \n",
    "<ul>\n",
    "    <li>open_code_2.csv</li>\n",
    "    <li>check_task3.py</li>\n",
    "</ul>"
   ],
   "metadata": {}
  },
  {
   "cell_type": "code",
   "execution_count": null,
   "source": [
    "import os \n",
    "from google.colab import files\n",
    "\n",
    "files.upload()"
   ],
   "outputs": [],
   "metadata": {}
  },
  {
   "cell_type": "markdown",
   "source": [
    "# Import Statements"
   ],
   "metadata": {}
  },
  {
   "cell_type": "code",
   "execution_count": 8,
   "source": [
    "# UNIQUE 1\n",
    "# Importing Modules\n",
    "\n",
    "import numpy as np\n",
    "import pandas as pd\n",
    "from check_task3 import *"
   ],
   "outputs": [],
   "metadata": {}
  },
  {
   "cell_type": "markdown",
   "source": [
    "# Understanding Data"
   ],
   "metadata": {}
  },
  {
   "cell_type": "code",
   "execution_count": 2,
   "source": [
    "# UNIQUE 2\n",
    "# Running this cell with laod the csv file and put it in the variable df\n",
    "\n",
    "df = pd.read_csv('./open_code_2.csv')"
   ],
   "outputs": [],
   "metadata": {}
  },
  {
   "cell_type": "code",
   "execution_count": 3,
   "source": [
    "# UNIQUE 3\n",
    "# Running this cell will show you how the dataset looks like \n",
    "\n",
    "df.head(10)"
   ],
   "outputs": [
    {
     "output_type": "execute_result",
     "data": {
      "text/html": [
       "<div>\n",
       "<style scoped>\n",
       "    .dataframe tbody tr th:only-of-type {\n",
       "        vertical-align: middle;\n",
       "    }\n",
       "\n",
       "    .dataframe tbody tr th {\n",
       "        vertical-align: top;\n",
       "    }\n",
       "\n",
       "    .dataframe thead th {\n",
       "        text-align: right;\n",
       "    }\n",
       "</style>\n",
       "<table border=\"1\" class=\"dataframe\">\n",
       "  <thead>\n",
       "    <tr style=\"text-align: right;\">\n",
       "      <th></th>\n",
       "      <th>app_id</th>\n",
       "      <th>category</th>\n",
       "      <th>reviews</th>\n",
       "      <th>size</th>\n",
       "      <th>installs</th>\n",
       "      <th>price</th>\n",
       "      <th>suitable_for</th>\n",
       "      <th>last_update</th>\n",
       "      <th>latest_ver</th>\n",
       "      <th>popularity</th>\n",
       "    </tr>\n",
       "  </thead>\n",
       "  <tbody>\n",
       "    <tr>\n",
       "      <th>0</th>\n",
       "      <td>330090</td>\n",
       "      <td>PERSONALIZATION</td>\n",
       "      <td>4</td>\n",
       "      <td>511k</td>\n",
       "      <td>50+</td>\n",
       "      <td>0</td>\n",
       "      <td>Everyone</td>\n",
       "      <td>December 31, 2016</td>\n",
       "      <td>1.4</td>\n",
       "      <td>High</td>\n",
       "    </tr>\n",
       "    <tr>\n",
       "      <th>1</th>\n",
       "      <td>226147</td>\n",
       "      <td>GAME</td>\n",
       "      <td>568391</td>\n",
       "      <td>5.2M</td>\n",
       "      <td>5,000,000+</td>\n",
       "      <td>0</td>\n",
       "      <td>Teen</td>\n",
       "      <td>July 1, 2014</td>\n",
       "      <td>4.3.1</td>\n",
       "      <td>High</td>\n",
       "    </tr>\n",
       "    <tr>\n",
       "      <th>2</th>\n",
       "      <td>107000</td>\n",
       "      <td>FAMILY</td>\n",
       "      <td>144</td>\n",
       "      <td>70M</td>\n",
       "      <td>1,000+</td>\n",
       "      <td>$2.99</td>\n",
       "      <td>Teen</td>\n",
       "      <td>January 26, 2018</td>\n",
       "      <td>1.0.0</td>\n",
       "      <td>High</td>\n",
       "    </tr>\n",
       "    <tr>\n",
       "      <th>3</th>\n",
       "      <td>217582</td>\n",
       "      <td>FAMILY</td>\n",
       "      <td>1499466</td>\n",
       "      <td>96M</td>\n",
       "      <td>10,000,000+</td>\n",
       "      <td>0</td>\n",
       "      <td>Teen</td>\n",
       "      <td>July 24, 2018</td>\n",
       "      <td>1.25.0</td>\n",
       "      <td>High</td>\n",
       "    </tr>\n",
       "    <tr>\n",
       "      <th>4</th>\n",
       "      <td>370113</td>\n",
       "      <td>DATING</td>\n",
       "      <td>84</td>\n",
       "      <td>4.5M</td>\n",
       "      <td>1,000+</td>\n",
       "      <td>0</td>\n",
       "      <td>Mature 17+</td>\n",
       "      <td>July 6, 2018</td>\n",
       "      <td>8.2</td>\n",
       "      <td>High</td>\n",
       "    </tr>\n",
       "    <tr>\n",
       "      <th>5</th>\n",
       "      <td>628931</td>\n",
       "      <td>PARENTING</td>\n",
       "      <td>247</td>\n",
       "      <td>28M</td>\n",
       "      <td>100,000+</td>\n",
       "      <td>0</td>\n",
       "      <td>Everyone</td>\n",
       "      <td>March 19, 2018</td>\n",
       "      <td>1.3.0</td>\n",
       "      <td>High</td>\n",
       "    </tr>\n",
       "    <tr>\n",
       "      <th>6</th>\n",
       "      <td>72280</td>\n",
       "      <td>PHOTOGRAPHY</td>\n",
       "      <td>180697</td>\n",
       "      <td>6.1M</td>\n",
       "      <td>10,000,000+</td>\n",
       "      <td>0</td>\n",
       "      <td>Everyone</td>\n",
       "      <td>April 25, 2017</td>\n",
       "      <td>2.2.5</td>\n",
       "      <td>High</td>\n",
       "    </tr>\n",
       "    <tr>\n",
       "      <th>7</th>\n",
       "      <td>793815</td>\n",
       "      <td>TOOLS</td>\n",
       "      <td>3988</td>\n",
       "      <td>11M</td>\n",
       "      <td>1,000,000+</td>\n",
       "      <td>0</td>\n",
       "      <td>Everyone</td>\n",
       "      <td>December 22, 2015</td>\n",
       "      <td>1.0.5</td>\n",
       "      <td>Low</td>\n",
       "    </tr>\n",
       "    <tr>\n",
       "      <th>8</th>\n",
       "      <td>660969</td>\n",
       "      <td>FAMILY</td>\n",
       "      <td>12</td>\n",
       "      <td>13M</td>\n",
       "      <td>1,000+</td>\n",
       "      <td>0</td>\n",
       "      <td>Everyone</td>\n",
       "      <td>February 3, 2018</td>\n",
       "      <td>1.3.4</td>\n",
       "      <td>Low</td>\n",
       "    </tr>\n",
       "    <tr>\n",
       "      <th>9</th>\n",
       "      <td>732069</td>\n",
       "      <td>MEDICAL</td>\n",
       "      <td>6</td>\n",
       "      <td>26M</td>\n",
       "      <td>1,000+</td>\n",
       "      <td>0</td>\n",
       "      <td>Everyone</td>\n",
       "      <td>May 25, 2018</td>\n",
       "      <td>1.0.32</td>\n",
       "      <td>High</td>\n",
       "    </tr>\n",
       "  </tbody>\n",
       "</table>\n",
       "</div>"
      ],
      "text/plain": [
       "   app_id         category  reviews  size     installs  price suitable_for  \\\n",
       "0  330090  PERSONALIZATION        4  511k          50+      0     Everyone   \n",
       "1  226147             GAME   568391  5.2M   5,000,000+      0         Teen   \n",
       "2  107000           FAMILY      144   70M       1,000+  $2.99         Teen   \n",
       "3  217582           FAMILY  1499466   96M  10,000,000+      0         Teen   \n",
       "4  370113           DATING       84  4.5M       1,000+      0   Mature 17+   \n",
       "5  628931        PARENTING      247   28M     100,000+      0     Everyone   \n",
       "6   72280      PHOTOGRAPHY   180697  6.1M  10,000,000+      0     Everyone   \n",
       "7  793815            TOOLS     3988   11M   1,000,000+      0     Everyone   \n",
       "8  660969           FAMILY       12   13M       1,000+      0     Everyone   \n",
       "9  732069          MEDICAL        6   26M       1,000+      0     Everyone   \n",
       "\n",
       "         last_update latest_ver popularity  \n",
       "0  December 31, 2016        1.4       High  \n",
       "1       July 1, 2014      4.3.1       High  \n",
       "2   January 26, 2018      1.0.0       High  \n",
       "3      July 24, 2018     1.25.0       High  \n",
       "4       July 6, 2018        8.2       High  \n",
       "5     March 19, 2018      1.3.0       High  \n",
       "6     April 25, 2017      2.2.5       High  \n",
       "7  December 22, 2015      1.0.5        Low  \n",
       "8   February 3, 2018      1.3.4        Low  \n",
       "9       May 25, 2018     1.0.32       High  "
      ]
     },
     "metadata": {},
     "execution_count": 3
    }
   ],
   "metadata": {}
  },
  {
   "cell_type": "code",
   "execution_count": 4,
   "source": [
    "# We encourage you to do for EDA if you feel necessary because there is no known disadvantages of \n",
    "# understanding the dataset better :)"
   ],
   "outputs": [],
   "metadata": {}
  },
  {
   "cell_type": "markdown",
   "source": [
    "# Task - 3"
   ],
   "metadata": {}
  },
  {
   "cell_type": "markdown",
   "source": [
    "## Task 3A"
   ],
   "metadata": {}
  },
  {
   "cell_type": "markdown",
   "source": [
    "This task requires you to convert the values given in the column <code>size</code> to numerical values first you will check the representation of the size in the column. The file size ending with k denotes that the file is in kb while the file size ending with M denotes that the file is in mb."
   ],
   "metadata": {}
  },
  {
   "cell_type": "code",
   "execution_count": null,
   "source": [
    "# Write your code to ensure that all the files are in either kb or mb.\n",
    "\n",
    " "
   ],
   "outputs": [],
   "metadata": {}
  },
  {
   "cell_type": "code",
   "execution_count": null,
   "source": [
    "# Write a function that takes in the column 'size' of the dataframe df and then return another dataframe \n",
    "# named clean_size_df. In this dataframe the file size which are in mb \n",
    "# must be multiplied with 1024 to convert them in kb too. The column element must be float that means\n",
    "# the terminating unit (k/M) should be removed\n",
    "# Returned dataframe column name should be same here size\n",
    "\n",
    "def clean_size(column_df):\n",
    "    '''\n",
    "    argument:\n",
    "        column_df = Datafram of the column named size\n",
    "    returns:\n",
    "        clean_size_df = Dataframe where elements of column_df are changed as specified above\n",
    "    '''\n",
    "\n",
    "    clean_size_df = None\n",
    "    return clean_size_df"
   ],
   "outputs": [],
   "metadata": {}
  },
  {
   "cell_type": "markdown",
   "source": [
    "To let you know if you are making any errors while completing this task we have given helper functions to check your work.\n",
    "Success means you have done this part of the task completely and you should proceed to next\n",
    "Failure means you messed up some part of your code "
   ],
   "metadata": {}
  },
  {
   "cell_type": "code",
   "execution_count": null,
   "source": [
    "# UNIQUE 4\n",
    "\n",
    "check_clean_size(clean_size(df['size']))"
   ],
   "outputs": [],
   "metadata": {}
  },
  {
   "cell_type": "markdown",
   "source": [
    "## Task 3B"
   ],
   "metadata": {}
  },
  {
   "cell_type": "markdown",
   "source": [
    "In this task you are supposd to featurise the column names <code>installs</code>.\n",
    "You are supposed to:\n",
    "<ul>\n",
    "    <li>Remove the comma(,) from the string</li>\n",
    "    <li>Remove the plus sign (+) from the end of the string </li>\n",
    "    <li>Convert the string to float</li>\n",
    "</ul>"
   ],
   "metadata": {}
  },
  {
   "cell_type": "code",
   "execution_count": null,
   "source": [
    "# Running this code block will show you how installs looks\n",
    "df['installs']"
   ],
   "outputs": [],
   "metadata": {}
  },
  {
   "cell_type": "code",
   "execution_count": null,
   "source": [
    "# Write a functions that takes in the column named installs and then returns a dataframe after modifying \n",
    "# installs as specified above\n",
    "# Returned dataframe column name should be same here installs\n",
    "\n",
    "def clean_install(column_df):\n",
    "    '''\n",
    "    parameters:\n",
    "        df : Dataframe of the column install\n",
    "    returns:\n",
    "        final_df : The final dataframe after modifying column_df as specified above\n",
    "    '''\n",
    "    final_df = None\n",
    "    return final_df "
   ],
   "outputs": [],
   "metadata": {}
  },
  {
   "cell_type": "code",
   "execution_count": null,
   "source": [
    "# UNIQUE 5\n",
    "\n",
    "check_clean_install(clean_install(df['installs']))"
   ],
   "outputs": [],
   "metadata": {}
  },
  {
   "cell_type": "markdown",
   "source": [
    "## Task 3C "
   ],
   "metadata": {}
  },
  {
   "cell_type": "markdown",
   "source": [
    "You are required to featurize the column named <code>price</code>\n",
    "You are supposed to:\n",
    "<ul>\n",
    "    <li>Remove the dollor sign if it exists.</li>\n",
    "    <li>Convert the string to float. </li>\n",
    "</ul>"
   ],
   "metadata": {}
  },
  {
   "cell_type": "code",
   "execution_count": null,
   "source": [
    "# Run this cell to see how the column price looks like\n",
    "df['price']\n"
   ],
   "outputs": [],
   "metadata": {}
  },
  {
   "cell_type": "code",
   "execution_count": null,
   "source": [
    "# Write a functions that takes in the column named price and then returns a dataframe after modifying \n",
    "# price as specified above\n",
    "# Returned dataframe column name should be same here price\n",
    "\n",
    "def clean_price(column_df):\n",
    "    '''\n",
    "    parameters:\n",
    "        df : Dataframe of the column price\n",
    "    returns:\n",
    "        final_df : The final dataframe after modifying column_df as specified above\n",
    "    '''\n",
    "    final_df = None\n",
    "    return final_df"
   ],
   "outputs": [],
   "metadata": {}
  },
  {
   "cell_type": "code",
   "execution_count": null,
   "source": [
    "#UNIQUE 6\n",
    "\n",
    "check_clean_price(clean_price(df['price']))"
   ],
   "outputs": [],
   "metadata": {}
  },
  {
   "cell_type": "markdown",
   "source": [
    "# Submisson"
   ],
   "metadata": {}
  },
  {
   "cell_type": "markdown",
   "source": [
    "Once you are done with the assignment open this notebook in google colab and share the notebook with the people specified below. To avoid plagarism you are adviced to not upload the notebook but just the link with access to only specified persons.\n",
    "<table>\n",
    "    <tr>\n",
    "        <th>Pratyaksh Singh </th>\n",
    "        <th>iib2020015@iiita.ac.in </th>\n",
    "    </tr>\n",
    "    <tr>\n",
    "        <th>Himanshu Bhawnani </th>\n",
    "        <th>iib2020035@iiita.ac.in </th>\n",
    "    </tr>\n",
    "    <tr>\n",
    "        <th>Parth Soni </th>\n",
    "        <th>iec2020132@iiita.ac.in </th>\n",
    "    </tr>\n",
    "    <tr>\n",
    "        <th>Utkarsh </th>\n",
    "        <th>iec2020060@iiita.ac.in </th>\n",
    "    </tr>\n",
    "</table>"
   ],
   "metadata": {}
  },
  {
   "cell_type": "markdown",
   "source": [
    "# Enjoy Open Code"
   ],
   "metadata": {}
  }
 ],
 "metadata": {
  "orig_nbformat": 4,
  "language_info": {
   "name": "python",
   "version": "3.8.10",
   "mimetype": "text/x-python",
   "codemirror_mode": {
    "name": "ipython",
    "version": 3
   },
   "pygments_lexer": "ipython3",
   "nbconvert_exporter": "python",
   "file_extension": ".py"
  },
  "kernelspec": {
   "name": "python3",
   "display_name": "Python 3.8.10 64-bit"
  },
  "interpreter": {
   "hash": "916dbcbb3f70747c44a77c7bcd40155683ae19c65e1c03b4aa3499c5328201f1"
  }
 },
 "nbformat": 4,
 "nbformat_minor": 2
}